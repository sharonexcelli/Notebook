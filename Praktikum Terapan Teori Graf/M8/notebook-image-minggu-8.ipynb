{
 "cells": [
  {
   "cell_type": "markdown",
   "id": "renewable-negotiation",
   "metadata": {},
   "source": [
    "## Pengenalan Image Processing dengan Python\n",
    "---\n",
    "### 1. Import module yang diperlukan"
   ]
  },
  {
   "cell_type": "code",
   "execution_count": null,
   "id": "guilty-nicholas",
   "metadata": {},
   "outputs": [],
   "source": [
    "import numpy as np\n",
    "import pandas as pd\n",
    "import cv2 as cv \n",
    "from skimage import io\n",
    "from PIL import Image \n",
    "import matplotlib.pylab as plt"
   ]
  },
  {
   "cell_type": "markdown",
   "id": "finished-mystery",
   "metadata": {},
   "source": [
    "---\n",
    "### Tugas 1: Baca gambar dari URL dan tampilkan\n",
    "> Cari gambar dari google, lalu gunakan url address dari gambar tersebut untuk melakukan operasi di bawah ini dengan menghapus tanda komentarnya."
   ]
  },
  {
   "cell_type": "code",
   "execution_count": null,
   "id": "mathematical-command",
   "metadata": {},
   "outputs": [],
   "source": [
    "urls = [\"https://ik.imagekit.io/fovfrrhqun/storage/app/media/Prambors/Editorial/KERETA-20201230044011.jpg\"]\n",
    "\n",
    "def cv_imshow(img):\n",
    "    plt.figure(figsize = (15,15))\n",
    "    plt.imshow(img)\n",
    "    plt.xticks([]), plt.yticks([])\n",
    "    plt.show()\n",
    "\n",
    "for url in urls:\n",
    "    myImg = io.imread(url)  \n",
    "    cv_imshow(cv.cvtColor(myImg, cv.COLOR_BGR2RGB))"
   ]
  },
  {
   "cell_type": "markdown",
   "id": "sudden-inquiry",
   "metadata": {},
   "source": [
    "---\n",
    "### Tugas 2: Tampilkan gambar anda dalam grayscale dan buat histogramnya"
   ]
  },
  {
   "cell_type": "code",
   "execution_count": null,
   "id": "russian-string",
   "metadata": {},
   "outputs": [],
   "source": [
    "image = io.imread(urls[0])"
   ]
  },
  {
   "cell_type": "code",
   "execution_count": null,
   "id": "combined-secondary",
   "metadata": {},
   "outputs": [],
   "source": [
    "plt.hist(image.ravel(),bins = 256, range = [0,256]) \n",
    "plt.show()"
   ]
  },
  {
   "cell_type": "code",
   "execution_count": null,
   "id": "little-century",
   "metadata": {},
   "outputs": [],
   "source": [
    "color = ('b','g','r')\n",
    "for i,col in enumerate(color):\n",
    "    histr = cv.calcHist([image],[i],None,[256],[0,256])\n",
    "    plt.plot(histr,color = col)\n",
    "    plt.xlim([0,256])\n",
    "plt.show()"
   ]
  },
  {
   "cell_type": "code",
   "execution_count": null,
   "id": "accepted-snapshot",
   "metadata": {},
   "outputs": [],
   "source": [
    "myGrayImg = cv.cvtColor(myImg, cv.COLOR_BGR2GRAY)\n",
    "cv_imshow(myGrayImg)"
   ]
  },
  {
   "cell_type": "markdown",
   "id": "sought-berkeley",
   "metadata": {},
   "source": [
    "---\n",
    "### Tugas 3: Temukan kontur gambar Anda sendiri"
   ]
  },
  {
   "cell_type": "code",
   "execution_count": null,
   "id": "difficult-flexibility",
   "metadata": {},
   "outputs": [],
   "source": [
    "plt.contour(myGrayImg, origin = \"image\")"
   ]
  },
  {
   "cell_type": "code",
   "execution_count": null,
   "id": "fantastic-vessel",
   "metadata": {},
   "outputs": [],
   "source": [
    "ret, thresh = cv.threshold(myGrayImg,100,200,0)\n",
    "contours, hierarchy = cv.findContours(thresh, cv.RETR_TREE, cv.CHAIN_APPROX_SIMPLE)\n",
    "cv.drawContours(image, contours, -1, (0, 255, 0), 3)\n",
    "plt.imshow(image)"
   ]
  },
  {
   "cell_type": "markdown",
   "id": "elect-istanbul",
   "metadata": {},
   "source": [
    "---\n",
    "### Tugas 4: Cobalah beberapa operasi matematika pada gambar Anda"
   ]
  },
  {
   "cell_type": "code",
   "execution_count": null,
   "id": "actual-little",
   "metadata": {},
   "outputs": [],
   "source": [
    "im3 = (100.0/255)*myGrayImg + 100\n",
    "cv_imshow(im3)"
   ]
  },
  {
   "cell_type": "code",
   "execution_count": null,
   "id": "married-miracle",
   "metadata": {},
   "outputs": [],
   "source": [
    "im4 = 255.0*(myGrayImg/255.0)**2\n",
    "cv_imshow(im4)"
   ]
  },
  {
   "cell_type": "markdown",
   "id": "outer-desire",
   "metadata": {},
   "source": [
    "---\n",
    "### Tugas 5: Lakukan pemerataan histogram pada gambar grayscale Anda"
   ]
  },
  {
   "cell_type": "code",
   "execution_count": null,
   "id": "cleared-flesh",
   "metadata": {},
   "outputs": [],
   "source": [
    "# Fungsi dari histogram equalization\n",
    "def histeq(im, nbr_bins = 256):\n",
    "  \"\"\" Persamaan histogram dari citra grayscale.  \"\"\"\n",
    "  # dapatkan histogram gambar\n",
    "  imhist, bins = np.histogram(im.flatten(), nbr_bins, [0, 256])\n",
    "  cdf = imhist.cumsum() # fungsi distribusi kumulatif\n",
    "  cdf = imhist.max()*cdf/cdf.max()  #normalisasi\n",
    "  cdf_mask = np.ma.masked_equal(cdf, 0)\n",
    "  cdf_mask = (cdf_mask - cdf_mask.min())*255/(cdf_mask.max()-cdf_mask.min())\n",
    "  cdf = np.ma.filled(cdf_mask,0).astype('uint8')\n",
    "  return cdf[im.astype('uint8')]\n",
    "\n",
    "# terapkan fungsi pada gambar gelap Anda untuk meningkatkan kontras\n",
    "# kita dapat mengamati bahwa kontras latar belakang hitam telah meningkat\n",
    "im5 = histeq(im4)\n",
    "cv_imshow(im5)"
   ]
  },
  {
   "cell_type": "code",
   "execution_count": null,
   "id": "prescribed-conservative",
   "metadata": {},
   "outputs": [],
   "source": [
    "plt.hist(im4.ravel(),bins = 256, range = [0, 256])\n",
    "plt.show()"
   ]
  },
  {
   "cell_type": "code",
   "execution_count": null,
   "id": "agricultural-walker",
   "metadata": {},
   "outputs": [],
   "source": [
    "plt.hist(im5.ravel(),bins = 256, range = [0, 256])\n",
    "plt.show()"
   ]
  },
  {
   "cell_type": "markdown",
   "id": "compatible-table",
   "metadata": {},
   "source": [
    "---\n",
    "### Tugas 6: Hasilkan transformasi fourier dari gambar grayscale Anda"
   ]
  },
  {
   "cell_type": "code",
   "execution_count": null,
   "id": "simplified-movie",
   "metadata": {},
   "outputs": [],
   "source": [
    "# Buramkan gambar grayscale dengan filter Guassian dengan ukuran kernel 10\n",
    "imBlur = cv.blur(myGrayImg,(5,5))\n",
    "# Ubah gambar menjadi domain frekuensi\n",
    "f = np.fft.fft2(imBlur)\n",
    "# Bawa komponen frekuensi-nol ke tengah\n",
    "fshift = np.fft.fftshift(f)\n",
    "magnitude_spectrum = 30*np.log(np.abs(fshift))\n",
    "\n",
    "plt.subplot(121),plt.imshow(imBlur, cmap = 'gray')\n",
    "plt.title('Input Image'), plt.xticks([]), plt.yticks([])\n",
    "plt.subplot(122),plt.imshow(magnitude_spectrum, cmap = 'gray')\n",
    "plt.title('Magnitude Spectrum'), plt.xticks([]), plt.yticks([])\n",
    "plt.show()"
   ]
  },
  {
   "cell_type": "markdown",
   "id": "shaped-embassy",
   "metadata": {},
   "source": [
    "---\n",
    "### 6. Menemukan Tepi dengan Highpass Filtering di FFT\n",
    "Bagian ini mendemonstrasikan melakukan high pass filter untuk menghilangkan komponen frekuensi rendah, sehingga menghasilkan gambar yang tajam yang berisi tepinya."
   ]
  },
  {
   "cell_type": "code",
   "execution_count": null,
   "id": "hairy-pregnancy",
   "metadata": {},
   "outputs": [],
   "source": [
    "rows, cols = imBlur.shape\n",
    "crow,ccol = round(rows/2) , round(cols/2)\n",
    "# hilangkan frekuensi rendah dengan ukuran persegi panjang 10\n",
    "fshift[crow-10:crow+10, ccol-10:ccol+10] = 0\n",
    "f_ishift = np.fft.ifftshift(fshift)\n",
    "img_back = np.fft.ifft2(f_ishift)\n",
    "img_back = np.abs(img_back)\n",
    "\n",
    "plt.figure(figsize=([20, 20]))\n",
    "plt.subplot(131),plt.imshow(imBlur, cmap = 'gray')\n",
    "plt.title('Input Image'), plt.xticks([]), plt.yticks([])\n",
    "plt.subplot(132),plt.imshow(img_back, cmap = 'gray')\n",
    "plt.title('Gambar setelah HPF'), plt.xticks([]), plt.yticks([])\n",
    "plt.subplot(133),plt.imshow(img_back)\n",
    "plt.title('Hasil dalam JET'), plt.xticks([]), plt.yticks([])\n",
    "plt.show()"
   ]
  },
  {
   "cell_type": "code",
   "execution_count": null,
   "id": "severe-karaoke",
   "metadata": {},
   "outputs": [],
   "source": []
  }
 ],
 "metadata": {
  "finalized": {
   "timestamp": 1619601029203,
   "trusted": true
  },
  "kernelspec": {
   "display_name": "Python 3",
   "language": "python",
   "name": "python3"
  },
  "language_info": {
   "codemirror_mode": {
    "name": "ipython",
    "version": 3
   },
   "file_extension": ".py",
   "mimetype": "text/x-python",
   "name": "python",
   "nbconvert_exporter": "python",
   "pygments_lexer": "ipython3",
   "version": "3.8.5"
  }
 },
 "nbformat": 4,
 "nbformat_minor": 5
}
