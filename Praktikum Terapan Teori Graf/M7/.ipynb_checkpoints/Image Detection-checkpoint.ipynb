{
 "cells": [
  {
   "cell_type": "markdown",
   "id": "lined-awareness",
   "metadata": {
    "id": "lined-awareness"
   },
   "source": [
    "# Object Detection with ImageAI"
   ]
  },
  {
   "cell_type": "markdown",
   "id": "0aeXFK_-lVIh",
   "metadata": {
    "id": "0aeXFK_-lVIh"
   },
   "source": [
    "Dibuat Oleh\n",
    "\n",
    "![discord thundernightfire.png](data:image/png;base64,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)"
   ]
  },
  {
   "cell_type": "markdown",
   "id": "potential-testament",
   "metadata": {
    "id": "potential-testament"
   },
   "source": [
    "## ImageAI"
   ]
  },
  {
   "cell_type": "markdown",
   "id": "ethical-product",
   "metadata": {
    "id": "ethical-product"
   },
   "source": [
    "### 1. Menyiapkan environment"
   ]
  },
  {
   "cell_type": "code",
   "execution_count": null,
   "id": "executive-usage",
   "metadata": {
    "id": "executive-usage"
   },
   "outputs": [],
   "source": [
    "pip install tensorflow"
   ]
  },
  {
   "cell_type": "code",
   "execution_count": null,
   "id": "incredible-yahoo",
   "metadata": {
    "id": "incredible-yahoo"
   },
   "outputs": [],
   "source": [
    "pip install opencv-python"
   ]
  },
  {
   "cell_type": "code",
   "execution_count": null,
   "id": "portable-serum",
   "metadata": {
    "id": "portable-serum"
   },
   "outputs": [],
   "source": [
    "pip install keras"
   ]
  },
  {
   "cell_type": "code",
   "execution_count": null,
   "id": "tired-attack",
   "metadata": {
    "id": "tired-attack"
   },
   "outputs": [],
   "source": [
    "pip install imageAI"
   ]
  },
  {
   "cell_type": "markdown",
   "id": "separated-foster",
   "metadata": {
    "id": "separated-foster"
   },
   "source": [
    "### 2. Import Package"
   ]
  },
  {
   "cell_type": "code",
   "execution_count": null,
   "id": "knowing-planner",
   "metadata": {
    "id": "knowing-planner"
   },
   "outputs": [],
   "source": [
    "from imageai.Detection import ObjectDetection"
   ]
  },
  {
   "cell_type": "markdown",
   "id": "eastern-midwest",
   "metadata": {
    "id": "eastern-midwest"
   },
   "source": [
    "### 3. Buat instance dari class ObjectDetection"
   ]
  },
  {
   "cell_type": "code",
   "execution_count": null,
   "id": "harmful-edmonton",
   "metadata": {
    "id": "harmful-edmonton"
   },
   "outputs": [],
   "source": [
    "detectortinyyolo = ObjectDetection()\n",
    "detectoryolo = ObjectDetection()\n",
    "detectorretinanet = ObjectDetection()"
   ]
  },
  {
   "cell_type": "markdown",
   "id": "daily-cooperative",
   "metadata": {
    "id": "daily-cooperative"
   },
   "source": [
    "### 4. Membuat spesifikasi lokasi gambar dan model"
   ]
  },
  {
   "cell_type": "code",
   "execution_count": null,
   "id": "l6Y2NUDqaz0b",
   "metadata": {
    "id": "l6Y2NUDqaz0b"
   },
   "outputs": [],
   "source": [
    "import urllib.request\n",
    "\n",
    "urllib.request.urlretrieve(\n",
    "        'https://gitlab.com/andreass.bayu/imageai-repo/-/raw/master/yolo-tiny.h5', 'yolo-tiny.h5')"
   ]
  },
  {
   "cell_type": "code",
   "execution_count": null,
   "id": "Ezf0zEHwa3CV",
   "metadata": {
    "id": "Ezf0zEHwa3CV"
   },
   "outputs": [],
   "source": [
    "import urllib.request\n",
    "\n",
    "urllib.request.urlretrieve(\n",
    "        'https://gitlab.com/andreass.bayu/imageai-repo/-/raw/master/yolo.h5', 'yolo.h5')"
   ]
  },
  {
   "cell_type": "code",
   "execution_count": null,
   "id": "designing-center",
   "metadata": {
    "id": "designing-center"
   },
   "outputs": [],
   "source": [
    "import urllib.request\n",
    "\n",
    "urllib.request.urlretrieve(\n",
    "        'https://gitlab.com/andreass.bayu/imageai-repo/-/raw/master/resnet50_coco_best_v2.1.0.h5', 'RetinaNet.h5')"
   ]
  },
  {
   "cell_type": "code",
   "execution_count": null,
   "id": "responsible-prevention",
   "metadata": {
    "id": "responsible-prevention"
   },
   "outputs": [],
   "source": [
    "model_path_tinyyolo = \"yolo-tiny.h5\"\n",
    "input_path_tinyyolo = \"image2.jpg\"\n",
    "output_path_tinyyolo = \"newimage2tinyyolo.jpg\"\n",
    "\n",
    "model_path_yolo = \"yolo.h5\"\n",
    "input_path_yolo = \"image2.jpg\"\n",
    "output_path_yolo = \"newimage2yolo.jpg\"\n",
    "\n",
    "model_path_retinanet = \"RetinaNet.h5\"\n",
    "input_path_retinanet = \"image2.jpg\"\n",
    "output_path_retinanet = \"newimage2retinanet.jpg\""
   ]
  },
  {
   "cell_type": "markdown",
   "id": "clean-concept",
   "metadata": {
    "id": "clean-concept"
   },
   "source": [
    "### 5. Pilih fungsi deteksi objek"
   ]
  },
  {
   "cell_type": "code",
   "execution_count": null,
   "id": "hybrid-proof",
   "metadata": {
    "id": "hybrid-proof"
   },
   "outputs": [],
   "source": [
    "detectortinyyolo.setModelTypeAsTinyYOLOv3()\n",
    "detectoryolo.setModelTypeAsYOLOv3()\n",
    "detectorretinanet.setModelTypeAsRetinaNet()"
   ]
  },
  {
   "cell_type": "markdown",
   "id": "organic-parallel",
   "metadata": {
    "id": "organic-parallel"
   },
   "source": [
    "### 6. setModelPath()"
   ]
  },
  {
   "cell_type": "code",
   "execution_count": null,
   "id": "fossil-paris",
   "metadata": {
    "id": "fossil-paris"
   },
   "outputs": [],
   "source": [
    "detectortinyyolo.setModelPath(model_path_tinyyolo)\n",
    "detectoryolo.setModelPath(model_path_yolo)\n",
    "detectorretinanet.setModelPath(model_path_retinanet)"
   ]
  },
  {
   "cell_type": "markdown",
   "id": "nutritional-silicon",
   "metadata": {
    "id": "nutritional-silicon"
   },
   "source": [
    "### 7. Load Model"
   ]
  },
  {
   "cell_type": "code",
   "execution_count": null,
   "id": "essential-buddy",
   "metadata": {
    "id": "essential-buddy"
   },
   "outputs": [],
   "source": [
    "detectortinyyolo.loadModel()\n",
    "detectoryolo.loadModel()\n",
    "detectorretinanet.loadModel()"
   ]
  },
  {
   "cell_type": "markdown",
   "id": "electrical-ideal",
   "metadata": {
    "id": "electrical-ideal"
   },
   "source": [
    "### 8. Deteksi Image"
   ]
  },
  {
   "cell_type": "code",
   "execution_count": null,
   "id": "finite-ghana",
   "metadata": {
    "id": "finite-ghana"
   },
   "outputs": [],
   "source": [
    "detectiontinyyolo = detectortinyyolo.detectObjectsFromImage(input_image=input_path_tinyyolo, output_image_path=output_path_tinyyolo)\n",
    "detectionyolo = detectoryolo.detectObjectsFromImage(input_image=input_path_yolo, output_image_path=output_path_yolo)\n",
    "detectionretinanet = detectorretinanet.detectObjectsFromImage(input_image=input_path_retinanet, output_image_path=output_path_retinanet)"
   ]
  },
  {
   "cell_type": "markdown",
   "id": "phantom-distinction",
   "metadata": {
    "id": "phantom-distinction"
   },
   "source": [
    "### 9. Cek Output"
   ]
  },
  {
   "cell_type": "code",
   "execution_count": null,
   "id": "median-franchise",
   "metadata": {
    "id": "median-franchise"
   },
   "outputs": [],
   "source": [
    "for eachItem in detectiontinyyolo:\n",
    "    print(eachItem[\"name\"] , \" : \", eachItem[\"percentage_probability\"])"
   ]
  },
  {
   "cell_type": "code",
   "execution_count": null,
   "id": "yCKHmzXwgBEA",
   "metadata": {
    "id": "yCKHmzXwgBEA"
   },
   "outputs": [],
   "source": [
    "for eachItem in detectionyolo:\n",
    "    print(eachItem[\"name\"] , \" : \", eachItem[\"percentage_probability\"])"
   ]
  },
  {
   "cell_type": "code",
   "execution_count": null,
   "id": "EA0lcSEygBvQ",
   "metadata": {
    "id": "EA0lcSEygBvQ"
   },
   "outputs": [],
   "source": [
    "for eachItem in detectionretinanet:\n",
    "    print(eachItem[\"name\"] , \" : \", eachItem[\"percentage_probability\"])"
   ]
  },
  {
   "cell_type": "markdown",
   "id": "enhanced-strengthening",
   "metadata": {
    "id": "enhanced-strengthening"
   },
   "source": [
    "### 10. Melihat Hasilnya"
   ]
  },
  {
   "cell_type": "markdown",
   "id": "GYAczezij0JH",
   "metadata": {
    "id": "GYAczezij0JH"
   },
   "source": [
    "Menggunakan Tiny Yolo"
   ]
  },
  {
   "cell_type": "code",
   "execution_count": null,
   "id": "acquired-baseball",
   "metadata": {
    "id": "acquired-baseball"
   },
   "outputs": [],
   "source": [
    "from IPython.display import Image\n",
    "Image(filename='newimage2tinyyolo.jpg')"
   ]
  },
  {
   "cell_type": "markdown",
   "id": "ZOD0R72Hj6zJ",
   "metadata": {
    "id": "ZOD0R72Hj6zJ"
   },
   "source": [
    "Menggunakan Yolo"
   ]
  },
  {
   "cell_type": "code",
   "execution_count": null,
   "id": "instructional-declaration",
   "metadata": {
    "id": "instructional-declaration"
   },
   "outputs": [],
   "source": [
    "from IPython.display import Image\n",
    "Image(filename='newimage2yolo.jpg')"
   ]
  },
  {
   "cell_type": "markdown",
   "id": "jXKI186FkDIH",
   "metadata": {
    "id": "jXKI186FkDIH"
   },
   "source": [
    "Menggunakan Retina Net"
   ]
  },
  {
   "cell_type": "code",
   "execution_count": null,
   "id": "X7ZnTub6iyMG",
   "metadata": {
    "id": "X7ZnTub6iyMG"
   },
   "outputs": [],
   "source": [
    "from IPython.display import Image\n",
    "Image(filename='newimage2retinanet.jpg')"
   ]
  }
 ],
 "metadata": {
  "colab": {
   "collapsed_sections": [],
   "name": "Image Detection.ipynb",
   "provenance": []
  },
  "finalized": {
   "timestamp": 1619326340072,
   "trusted": true
  },
  "kernelspec": {
   "display_name": "Python 3",
   "language": "python",
   "name": "python3"
  },
  "language_info": {
   "codemirror_mode": {
    "name": "ipython",
    "version": 3
   },
   "file_extension": ".py",
   "mimetype": "text/x-python",
   "name": "python",
   "nbconvert_exporter": "python",
   "pygments_lexer": "ipython3",
   "version": "3.8.5"
  }
 },
 "nbformat": 4,
 "nbformat_minor": 5
}
