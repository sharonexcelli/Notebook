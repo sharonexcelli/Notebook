{
 "cells": [
  {
   "cell_type": "markdown",
   "metadata": {
    "_cell_guid": "e9661373-4482-4fd6-87db-9debcf5835cc",
    "_uuid": "58814c6412866fd76edd976c63878aa7d7318c55"
   },
   "source": [
    "# Pertemuan I\n",
    "\n",
    "Pada praktikum ini, Anda akan melakukan beberapa operasi dasar statistik dengan data bertema keseshatan yaitu data tumor. \n",
    "\n",
    "* [Histogram](#1)\n",
    "* [Outliers](#2)\n",
    "* [Box Plot ](#3)\n",
    "* [Summary Statistics](#4)\n",
    "* [Relationship Between Variables](#5)\n",
    "* [Correlation](#6)\n",
    "* [Covariance](#7)\n",
    "* [Pearson Correlation](#8)\n",
    "* [Spearman's Rank Correlation](#9)\n",
    "* [Mean VS Median](#10)\n",
    "* [Hypothesis Testing](#11)\n"
   ]
  },
  {
   "cell_type": "markdown",
   "metadata": {},
   "source": [
    "# Instruksi Praktikum\n",
    "\n",
    "1. Silahkan lengkapi notebook praktikum ini dengan instruksi dibawah ini (Tips: lihat tanda <<??>> dan ...)\n",
    "2. Bacalah dataset yang berada tersimpan url https://raw.githubusercontent.com/supasonicx/ATA-praktikum-01/main/concrete.csv\n",
    "3. Melihat dimensi dan kolom(fitur) dari dataset\n",
    "4. Buatlah sebuah histogram dari data kolom 'strength'.\n",
    "5. Buatlah diagram boxplot dari dataset yang ada.\n",
    "6. Hitung karakteristik statistik (standar deviasi, variance, mean, median) dari masing-masing kolom data.\n",
    "7. Buatlah correlation map dari dataset tersebut.\n",
    "8. Hitung covariance dari kolom data ....\n",
    "9. Hitung pearson correlation dan spearsman correlation dari kolom ....\n",
    "10. Hitung nilai hipotesis testing untuk kolom age dan strength."
   ]
  },
  {
   "cell_type": "code",
   "execution_count": null,
   "metadata": {
    "_cell_guid": "b1076dfc-b9ad-4769-8c92-a6c4dae69d19",
    "_uuid": "8f2839f25d086af736a60e9eeb907d3b93b6e0e5"
   },
   "outputs": [],
   "source": [
    "# import libraries\n",
    "import pandas as pd\n",
    "import numpy as np\n",
    "import seaborn as sns\n",
    "import matplotlib.pyplot as plt\n",
    "from pandas.plotting import autocorrelation_plot\n",
    "from scipy import stats\n",
    "plt.style.use(\"ggplot\")\n",
    "import warnings\n",
    "warnings.filterwarnings(\"ignore\")\n",
    "from scipy import stats"
   ]
  },
  {
   "cell_type": "markdown",
   "metadata": {},
   "source": [
    "## Membaca Dataset "
   ]
  },
  {
   "cell_type": "code",
   "execution_count": null,
   "metadata": {
    "_cell_guid": "79c7e3d0-c299-4dcb-8224-4455121ee9b0",
    "_uuid": "d629ff2d2480ee46fbb7e2d37f6b5fab8052498a"
   },
   "outputs": [],
   "source": [
    "# read data as pandas data frame\n",
    "url_data=\"...\"\n",
    "data = pd.read_csv(url_data)"
   ]
  },
  {
   "cell_type": "markdown",
   "metadata": {},
   "source": [
    "### Overview Dataset\n",
    "\n",
    "\"Data Pembuatan Semen (Cement Manufacturing)\"\n",
    "\n",
    "Beton merupakan material terpenting dalam teknik sipil. Kuat tekan beton adalah fungsi yang sangat nonlinier dari umur dan bahan. Bahan-bahan tersebut antara lain semen, terak tanur tinggi, fly ash, air, superplasticizer, agregat kasar, dan agregat halus. Dataset ini berisi data mengenai kekuatan semen, bahan penyusun dan waktu campuran.\n",
    "\n",
    "Kekuatan tekan beton (MPa) untuk campuran tertentu di bawah umur tertentu (hari) ditentukan dari informasi laboratorium. Data ini merupakan data (tidak diskalakan). Data memiliki 8 variabel input kuantitatif, dan 1 variabel output kuantitatif, dan 1030 kejadian (pengamatan)."
   ]
  },
  {
   "cell_type": "code",
   "execution_count": null,
   "metadata": {
    "scrolled": true
   },
   "outputs": [],
   "source": [
    "## Melihat 5 baris awal dari dataset yang digunakan\n",
    "data.head()"
   ]
  },
  {
   "cell_type": "markdown",
   "metadata": {},
   "source": [
    "#### Note:\n",
    "---\n",
    "kolom/field diagnosis : \n",
    "* M(malignant)   = Tumor Ganas\n",
    "* Beningn(Jinak) = Tumor Jinak"
   ]
  },
  {
   "cell_type": "code",
   "execution_count": null,
   "metadata": {},
   "outputs": [],
   "source": [
    "## Menampilkan dimensi dari dataset\n",
    "<<??>>.shape"
   ]
  },
  {
   "cell_type": "code",
   "execution_count": null,
   "metadata": {},
   "outputs": [],
   "source": [
    "## Menampilkan kolom dari dataset\n",
    "<<??>>.columns "
   ]
  },
  {
   "cell_type": "code",
   "execution_count": null,
   "metadata": {},
   "outputs": [],
   "source": [
    "## Hitung nilai mean dari seluruh kolom data yang ada \n",
    "print(\"mean strength :\",data['...'].mean())"
   ]
  },
  {
   "cell_type": "markdown",
   "metadata": {
    "_cell_guid": "829d5285-8fdb-437d-b5fd-26f2bc3f6e01",
    "_uuid": "86d0d9a841baf5733e6104cf0433cb3e148a354d"
   },
   "source": [
    "<a id=\"1\"></a> <br>\n",
    "## Histogram\n",
    "\n",
    "* Menampilkan Berapa kali (frekueni) setiap nilai muncul dalam kumpulan data. \n",
    "* Jenis deskripsi ini disebut distribusi variabel\n",
    "* Cara paling umum untuk merepresentasikan distribusi variabel adalah histogram yaitu grafik yang menunjukkan frekuensi dari setiap nilai.\n",
    "* Frequency = berapa kali setiap nilai muncu\n",
    "* Contoh: [1,1,1,1,2,2,2]. Frequency dari 1 adalah empat dan frequency dari 2 adalah tiga."
   ]
  },
  {
   "cell_type": "code",
   "execution_count": null,
   "metadata": {},
   "outputs": [],
   "source": [
    "## Buatlah diagram histogram dari kolom Strength\n",
    "plt.figure(figsize=(20,10))\n",
    "plt.title('Histogram of strength')\n",
    "sns.histplot(data,x='...', kde=True);"
   ]
  },
  {
   "cell_type": "markdown",
   "metadata": {
    "_cell_guid": "d52bb4d3-afaa-483c-ad5d-089c02afc588",
    "_uuid": "700a82eff7c8843c29287e33921358011f3ee520"
   },
   "source": [
    "<a id=\"3\"></a> <br>\n",
    "## Box Plot \n",
    "* Anda dapat melihat outlier juga dari box plot\n",
    "* Kita menemukan 3 outlier pada mean/rata-rata radius jinak dan pada box plot terdapat 3 outlier."
   ]
  },
  {
   "cell_type": "code",
   "execution_count": null,
   "metadata": {
    "_cell_guid": "a7869df9-a05d-4edc-bd51-053bd6f300e7",
    "_uuid": "055c8310248611425cc5b1db8cbf0061231a85f9"
   },
   "outputs": [],
   "source": [
    "## Buatlah boxplot dari data strength berdasarkan nilai cement dan age\n",
    "melted_data = pd.melt(data,id_vars = \"...\",value_vars = ['...', '...'])\n",
    "plt.figure(figsize = (15,10))\n",
    "sns.boxplot(x = \"variable\", y = \"value\", hue=\"diagnosis\",data= melted_data)\n",
    "plt.show()"
   ]
  },
  {
   "cell_type": "markdown",
   "metadata": {
    "_cell_guid": "1f3dbf13-eff8-4ec8-b2af-0685be3bc21f",
    "_uuid": "1d9aa65d902b558f1b8edc93a368ba49bfc776f2"
   },
   "source": [
    "<a id=\"4\"></a> <br>\n",
    "## Summary Statistics\n",
    "* Mean/rata-rata\n",
    "* Variance: penyebaran distribusi\n",
    "* Standart deviation square root dari variance\n",
    "* Mari kita lihat ringkasan statistik rata-rata pancaran tumor jinak:"
   ]
  },
  {
   "cell_type": "code",
   "execution_count": null,
   "metadata": {
    "_cell_guid": "5d753b0e-eb9b-47a2-99b7-c1d949dac739",
    "_uuid": "ceaf1cc0795f0612bcd30d8dd3c2566f96dbb198"
   },
   "outputs": [],
   "source": [
    "## Hitung nilai karakteristik dari masing-masing kolom data dengan perintah describe\n",
    "data.<<??>>.<<??>>"
   ]
  },
  {
   "cell_type": "markdown",
   "metadata": {
    "_cell_guid": "a0b7aa9c-8f1c-4f7e-a244-0401ae3f5815",
    "_uuid": "ee5ab99fe36c7ce986374530f121381e4a01e5ea"
   },
   "source": [
    "<a id=\"7\"></a> <br>\n",
    "## Relationship Between Variables\n",
    "* Kita dapat mengatakan bahwa dua variabel terkait satu sama lain, jika salah satunya memberikan informasi tentang yang lain\n",
    "* Misalnya, harga dan jarak. Jika Anda pergi jarak jauh dengan taksi Anda akan membayar lebih. Oleh karena itu kita dapat mengatakan bahwa harga dan jarak berhubungan positif satu sama lain.\n",
    "* Scatter Plot, Cara termudah untuk memeriksa hubungan antara dua variabel\n",
    "* Mari kita lihat hubungan antara radius mean dan mean area\n",
    "* Di scatter plot Anda dapat melihat bahwa ketika radius mean meningkat, mean area juga meningkat. Oleh karena itu, mereka berkorelasi positif satu sama lain.\n",
    "* Tidak ada korelasi antara mean area dan dimensi fraktal se. Karena ketika mean area berubah, dimensi fraktal se tidak terpengaruh oleh peluang mean area"
   ]
  },
  {
   "cell_type": "code",
   "execution_count": null,
   "metadata": {
    "_cell_guid": "2887041f-bcdd-4efb-8329-8f7f4432f58d",
    "_uuid": "8b5778cf4df9a644a8f7a62ff57f8a9d5357f02c"
   },
   "outputs": [],
   "source": [
    "# dan juga kita dapat melihat hubungan antara data kolom 'age' dan 'strength'\n",
    "plt.figure(figsize = (15,10))\n",
    "sns.jointplot(data.<<??>>,data.<<??>>,kind=\"reg\")\n",
    "plt.show()"
   ]
  },
  {
   "cell_type": "code",
   "execution_count": null,
   "metadata": {
    "_cell_guid": "74fcbc41-8b68-4d43-bd3c-bef9c420e03d",
    "_uuid": "ca713e963ced53fd3c81c33170b723f55aa82afe"
   },
   "outputs": [],
   "source": [
    "# dan juga kita dapat melihat hubungan antara data kolom 'cement', 'slag','age' dan 'strength'\n",
    "sns.set(style = \"white\")\n",
    "df = data.loc[:,[\"cement\",\"age\",\"strength\"]]\n",
    "g = sns.PairGrid(df,diag_sharey = False,)\n",
    "g.map_lower(sns.kdeplot,cmap=\"Blues_d\")\n",
    "g.map_upper(plt.scatter)\n",
    "g.map_diag(sns.kdeplot,lw =3)\n",
    "plt.show()"
   ]
  },
  {
   "cell_type": "markdown",
   "metadata": {
    "_cell_guid": "e2ea4524-ba53-4999-9622-57f777b52c04",
    "_uuid": "751536650e6a243fd6ffabbd895101a6cc5af0a2"
   },
   "source": [
    "<a id=\"8\"></a> <br>\n",
    "## Correlation\n",
    "* Kekuatan hubungan antara dua variabel\n",
    "* Mari kita lihat korelasi antara semua fitur."
   ]
  },
  {
   "cell_type": "code",
   "execution_count": null,
   "metadata": {
    "_cell_guid": "434cca92-696b-4444-8f56-1644cc804a18",
    "_uuid": "fb58562e31b2f4ee55cb9021aac1de86c714da50"
   },
   "outputs": [],
   "source": [
    "## 'Panggil' libraty seaborn untuk membuat diagram heatmap korelasi dari dataset ini.\n",
    "f,ax=plt.subplots(figsize = (18,18))\n",
    "<<??>>.heatmap(data.corr(),annot= True,linewidths=0.5,fmt = \".1f\",ax=ax)\n",
    "plt.xticks(rotation=90)\n",
    "plt.yticks(rotation=0)\n",
    "plt.title('Correlation Map')\n",
    "plt.savefig('graph.png')\n",
    "plt.show()"
   ]
  },
  {
   "cell_type": "markdown",
   "metadata": {
    "_cell_guid": "2e7a08a1-6522-4639-acc0-62999298dabc",
    "_uuid": "8af4d19de00793df405d522baa523add92c99500"
   },
   "source": [
    "* Matriks besar yang mencakup banyak angka\n",
    "* Kisaran angka ini adalah -1 hingga 1. \n",
    "* Arti dari 1 adalah dua variabel yang saling berkorelasi positif seperti mean radius dan mean area\n",
    "* Arti dari nol adalah tidak ada korelasi antara variabel seperti rata-rata radius dan fractal dimension se\n",
    "* Arti dari -1 adalah dua variabel berkorelasi negatif satu sama lain seperti rata-rata radius dan mean/rata-rata fractal dimension.Sebenarnya korelasi antara keduanya bukan -1, melainkan -0,3 tetapi idenya adalah jika tanda korelasi negatif berarti ada adalah korelasi negatif."
   ]
  },
  {
   "cell_type": "markdown",
   "metadata": {
    "_cell_guid": "decf0e59-ba06-4f70-a409-b9c36f31a2d2",
    "_uuid": "7a0e213abd8c7d9393aa3f3aa891cba5bab7ad2f"
   },
   "source": [
    "<a id=\"9\"></a> <br>\n",
    "## Covariance\n",
    "* Covariance adalah ukuran kecenderungan dua variabel untuk bervariasi bersama-sama\n",
    "* Jadi covarians dimaksimalkan jika dua vektor identik\n",
    "* Covarians adalah nol jika mereka ortogonal.\n",
    "* Covariance negatif jika mereka menunjuk ke arah yang berlawanan\n",
    "* Mari kita lihat kovarians antara mean radius dan mean area. Kemudian lihat radius mean dan fractal dimension se\n"
   ]
  },
  {
   "cell_type": "code",
   "execution_count": null,
   "metadata": {
    "_cell_guid": "70a5a86e-e4c4-48a6-9b26-da7acd0aa582",
    "_uuid": "278fab1f7f573e39871179b3797acc3868d8292d"
   },
   "outputs": [],
   "source": [
    "## Hitung nilai covariance dari data strength, age dan cement\n",
    "print(\"Covariance diantara strength dan umur: \",data.<<??>>.cov(data.<<??>>))\n",
    "print(\"Covariance diantara strength dan semen: \",data.<<??>>.cov(data.<<??>>))"
   ]
  },
  {
   "cell_type": "markdown",
   "metadata": {
    "_cell_guid": "2ed58704-19c9-4cfc-8439-285d34dad3c3",
    "_uuid": "9df1c74618ff36af2225292b44aa4f2fb00719d9"
   },
   "source": [
    "<a id=\"10\"></a> <br>\n",
    "## Pearson Correlation\n",
    "* Pembagian covarians dengan standar deviasi variabel\n",
    "* Mari kita lihat korelasi pearson antara mean/rata-rata radius dan mean/rata-rata area\n",
    "* Pertama mari kita gunakan metode .corr() yang sebenarnya kita gunakan pada bagian korelasi. Di bagian korelasi kami sebenarnya menggunakan korelasi pearson :)\n",
    "* p1 dan p2 adalah sama. Di p1 kita menggunakan metode corr(), di p2 kita menerapkan definisi korelasi pearson (cov(A,B)/(std(A)*std(B)))\n",
    "* Seperti yang kita harapkan korelasi pearson antara area_mean dan area_mean adalah 1 yang berarti bahwa mereka adalah distribusi yang sama\n",
    "* Juga pearson correlation antara area_mean dan radius_mean adalah 0,98 yang berarti saling berkorelasi positif dan hubungan antar keduanya sangat tinggi.\n",
    "* Untuk lebih jelas apa yang kami lakukan di bagian korelasi dan bagian korelasi pearson adalah sama.\n"
   ]
  },
  {
   "cell_type": "code",
   "execution_count": null,
   "metadata": {
    "_cell_guid": "5f951685-4070-4785-ba88-9bfaf9b80d79",
    "_uuid": "d40a315700b4a628ef6fd75701d68c4adffb3d70"
   },
   "outputs": [],
   "source": [
    "## Hitung nilai korelasi pearson antara kolom age dan strength\n",
    "p1 = data.loc[:,[\"...\",\"...\"]].corr(method= \"...\")\n",
    "p2 = data.strength.cov(data.age)/(data.strength.std()*data.age.std())\n",
    "print('Pearson correlation: ')\n",
    "print(p1)\n",
    "print('Pearson correlation: ',p2)"
   ]
  },
  {
   "cell_type": "markdown",
   "metadata": {
    "_cell_guid": "b12190ed-205b-4b60-847d-a393de0ebfdf",
    "_uuid": "8e1e0dedd2dc999ca0727ff98b0db1e2c4a78cf8"
   },
   "source": [
    "<a id=\"11\"></a> <br>\n",
    "## Spearman's Rank Correlation\n",
    "* Pearson correlation bekerja dengan baik jika hubungan antara variabel linier dan variabel kira-kira normal. Tapi itu tidak kuat, jika ada outlier\n",
    "* Untuk menghitung korelasi spearman, kita perlu menghitung peringkat dari setiap nilai\n"
   ]
  },
  {
   "cell_type": "code",
   "execution_count": null,
   "metadata": {
    "_cell_guid": "1bfe46f8-3905-4f50-850d-50c76f49e922",
    "_uuid": "4a82b960ed64998d4bd111b23569fb9619bcae03"
   },
   "outputs": [],
   "source": [
    "## Hitung nilai korelasi pearson antara kolom age dan strength\n",
    "ranked_data = data.rank()\n",
    "spearman_corr = ranked_data.loc[:,[\"...\",\"...\"]].corr(method= \"pearson\")\n",
    "print(\"Spearman's correlation: \")\n",
    "print(spearman_corr)"
   ]
  },
  {
   "cell_type": "markdown",
   "metadata": {
    "_cell_guid": "aecd895c-4d41-4615-b360-f752eff0eddd",
    "_uuid": "45d7a09457f8c71e87251fa765f99f39c349fe3d"
   },
   "source": [
    "* Korelasi Spearman sedikit lebih tinggi dari korelasi pearson\n",
    "    * Jika hubungan antar distribusi tidak linier, korelasi spearman cenderung lebih baik dalam memperkirakan kekuatan hubungan\n",
    "    * Korelasi Pearson dapat dipengaruhi oleh outlier, sehingga jika data Anda memiliki outlier, maka teknik Korelasi Spearman's Rank dapat digunakan."
   ]
  },
  {
   "cell_type": "markdown",
   "metadata": {
    "_cell_guid": "1cd563bd-d525-479a-8d9c-9530280dfdc0",
    "_uuid": "49e6272bd3e392d289514d1a2d19bb0fc65b34f3"
   },
   "source": [
    "<a id=\"13\"></a> <br>\n",
    "## Hypothesis Testing\n",
    "* Classical Hypothesis Testing / Pengujian Hipotesis Klasik\n",
    "* Apa yang Anda perlu lakukan untuk menjawab pertanyaan berikut : \"diberikan sampel dan efek nyata, berapa peluang melihat efek seperti itu secara kebetulan\"\n",
    "* Langkah pertama adalah mengukur ukuran efek nyata dengan memilih statistik uji. Pilihan alami untuk statistik uji adalah perbedaan mean/rata-rata antara dua kelompok.\n",
    "* Langkah kedua adalah mendefinisikan hipotesis nol yaitu model sistem berdasarkan asumsi bahwa efek yang tampak tidak nyata. Hipotesis nol adalah jenis hipotesis yang digunakan dalam statistik yang menyatakan bahwa tidak ada signifikansi statistik dalam serangkaian pengamatan yang diberikan. Hipotesis nol adalah hipotesis yang orang mencoba untuk menyangkalnya. Hipotesis alternatif adalah hipotesis yang orang ingin mencoba untuk membuktikannya. \n",
    "* Langkah ketiga adalah menghitung p-value yaitu probabilitas melihat efek nyata jika hipotesis nol benar. Misalkan kita memiliki uji hipotesis nol. Kemudian kita hitung nilai p. Jika nilai p kurang dari atau sama dengan ambang batas, kami menolak hipotesis nol.\n",
    "* Jika p-value rendah, pengaruh tersebut dikatakan signifikan secara statistik artinya tidak mungkin terjadi secara kebetulan. Oleh karena itu kita dapat mengatakan bahwa efeknya lebih mungkin muncul pada populasi yang lebih besar.\n",
    "* Mari kita coba contohkan. Hipotesis nol: dunia rata. Hipotesis alternatif: dunia itu bulat. Beberapa ilmuwan mulai menyangkal hipotesis nol. Ini akhirnya mengarah pada refleksi hipotesis nol dan penerimaan hipotesis alternatif.\n",
    "* Contoh lainnya. \"efek ini nyata\" ini adalah hipotesis nol. Berdasarkan asumsi itu kami menghitung probabilitas efek yang tampak. Itu adalah nilai-p. Jika nilai p rendah, kami menyimpulkan bahwa hipotesis nol tidak mungkin benar.\n",
    "* Sekarang mari kita buat contoh kita:\n",
    "    * Saya ingin mengetahui apakah rata-rata radius dan rata-rata area terkait satu sama lain? Hipotesis nol saya adalah bahwa \"hubungan antara rata-rata radius dan rata-rata area adalah nol pada populasi tumor'.\n",
    "    * Sekarang kita perlu menyangkal hipotesis nol ini untuk menunjukkan bahwa mean/rata-rata radius dan mean/rata-rata area berhubungan. (walaupun sebenarnya kita telah mengetahui hasilnya berdasarkan analisa korelasi yang telah dilakukan sebelumnya)\n",
    "    * mari kita cari nilai p (nilai probabilitas)"
   ]
  },
  {
   "cell_type": "code",
   "execution_count": null,
   "metadata": {
    "_cell_guid": "a7f73cf7-535c-4ee3-ad09-bc5530f4a5aa",
    "_uuid": "fa778e19b79454fbfa63846607f272d9afd7bb3c"
   },
   "outputs": [],
   "source": [
    "## Lakukan hiporesis testing antara data pada kolom age dan strength\n",
    "statistic, p_value = stats.ttest_rel(data.<<??>>,data.<<??>>)\n",
    "print('p-value adalah: ',p_value)"
   ]
  },
  {
   "cell_type": "markdown",
   "metadata": {
    "_cell_guid": "0eba022b-3dc9-4f3d-852b-131106f1f0e7",
    "_uuid": "b51dc2ed88cfd4bcc0c0d60fe0f3c163006441a4"
   },
   "source": [
    "* Hasil perhitungan P values/ Nilai P hampir mendekati nol, sehingga kita dapat menolak hipotesis nol. Penolakan hipotesis ini memiliki arti nilai rata-rata age dan rata-rata strength pada data ini saling berpengaruh. "
   ]
  }
 ],
 "metadata": {
  "kernelspec": {
   "display_name": "Python 3",
   "language": "python",
   "name": "python3"
  },
  "language_info": {
   "codemirror_mode": {
    "name": "ipython",
    "version": 3
   },
   "file_extension": ".py",
   "mimetype": "text/x-python",
   "name": "python",
   "nbconvert_exporter": "python",
   "pygments_lexer": "ipython3",
   "version": "3.6.9"
  }
 },
 "nbformat": 4,
 "nbformat_minor": 1
}
