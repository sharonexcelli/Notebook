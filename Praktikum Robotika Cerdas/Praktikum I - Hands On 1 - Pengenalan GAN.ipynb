{
 "cells": [
  {
   "cell_type": "markdown",
   "id": "279192d9",
   "metadata": {},
   "source": [
    "# 1. Import Library\n",
    "pada tahapan ini Anda mendefinisikan terlebih dahulu library yang akan Anda gunakan "
   ]
  },
  {
   "cell_type": "code",
   "execution_count": 1,
   "id": "e9ed7f5b",
   "metadata": {},
   "outputs": [],
   "source": [
    "from keras.datasets import mnist"
   ]
  },
  {
   "cell_type": "code",
   "execution_count": 2,
   "id": "fd6c7bfe",
   "metadata": {},
   "outputs": [],
   "source": [
    "from tensorflow.keras import Sequential\n",
    "from keras.layers import BatchNormalization, Dense, Reshape, Flatten\n",
    "from keras.layers.advanced_activations import LeakyReLU\n",
    "from tensorflow.keras.optimizers import Adam\n",
    "import numpy as np"
   ]
  },
  {
   "cell_type": "markdown",
   "id": "e62dcf1c",
   "metadata": {},
   "source": [
    "# 2. Mendefinisikan Variabel untuk Neural Network dan Data\n",
    "\n",
    "#### Pada tahapan ini kita akan mendefinisikan beberapa variabel yang diperlukan  diantaranya\n",
    "\n",
    "* Ukuran gambar yang akan di generate oleh algoritma GAN\n",
    "* Channel warna yang akan digunakan\n",
    "* Optimizer - Variable yang menentukan algoritma optimisasi pembelajaran yang akan dilakukan. Disini kita menggunakan algoritma Stochastic Gradient Decent dengan learning rate 0.0001. Learning rate mendefinisikan seberapa cepat algoritma mempelajari data yang diberikan, dan nilai 0.0001 adalah nilai yang direkomendasikan digunakan untuk pembentukan gan"
   ]
  },
  {
   "cell_type": "code",
   "execution_count": 3,
   "id": "1d8e2b79",
   "metadata": {},
   "outputs": [],
   "source": [
    "## mendefinisikan variable gambar\n",
    "## ukuran disesai\n",
    "img_width = 28\n",
    "img_height = 28\n",
    "channels = 1\n",
    "img_shape = (img_width, img_height, channels)\n",
    "latent_dim = 100\n",
    "adam = Adam(learning_rate=0.0001)"
   ]
  },
  {
   "cell_type": "markdown",
   "id": "6b21f35c",
   "metadata": {},
   "source": [
    "# 3. Membentuk Generator\n",
    "Generator adalah bagian dari GAN yang bertugas untuk belajar membuat data palsu dengan memasukkan umpan balik dari diskriminator. Ia belajar membuat diskriminator mengklasifikasikan outputnya sebagai yang sebenarnya atau nyata."
   ]
  },
  {
   "cell_type": "code",
   "execution_count": 4,
   "id": "acce75c2",
   "metadata": {},
   "outputs": [],
   "source": [
    "def build_generator():\n",
    "  model = Sequential()\n",
    "\n",
    "  model.add(Dense(256, input_dim=latent_dim))\n",
    "  ## add activation fucntion\n",
    "  model.add(LeakyReLU(alpha=0.2))\n",
    "  model.add(BatchNormalization(momentum=0.8))\n",
    "\n",
    "  model.add(Dense(512))\n",
    "  ## add activation fucntion\n",
    "  model.add(LeakyReLU(alpha=0.2))\n",
    "  model.add(BatchNormalization(momentum=0.8))\n",
    "\n",
    "  model.add(Dense(1024))\n",
    "  ## add activation fucntion\n",
    "  model.add(LeakyReLU(alpha=0.2))\n",
    "  model.add(BatchNormalization(momentum=0.8))\n",
    "\n",
    "  ## membuat model menjadi ukuran 28x28x1\n",
    "  model.add(Dense(np.prod(img_shape), activation='tanh'))\n",
    "  model.add(Reshape(img_shape))\n",
    "\n",
    "  model.summary()\n",
    "  return model"
   ]
  },
  {
   "cell_type": "code",
   "execution_count": 5,
   "id": "b8d09b4a",
   "metadata": {},
   "outputs": [
    {
     "name": "stdout",
     "output_type": "stream",
     "text": [
      "Model: \"sequential\"\n",
      "_________________________________________________________________\n",
      " Layer (type)                Output Shape              Param #   \n",
      "=================================================================\n",
      " dense (Dense)               (None, 256)               25856     \n",
      "                                                                 \n",
      " leaky_re_lu (LeakyReLU)     (None, 256)               0         \n",
      "                                                                 \n",
      " batch_normalization (BatchN  (None, 256)              1024      \n",
      " ormalization)                                                   \n",
      "                                                                 \n",
      " dense_1 (Dense)             (None, 512)               131584    \n",
      "                                                                 \n",
      " leaky_re_lu_1 (LeakyReLU)   (None, 512)               0         \n",
      "                                                                 \n",
      " batch_normalization_1 (Batc  (None, 512)              2048      \n",
      " hNormalization)                                                 \n",
      "                                                                 \n",
      " dense_2 (Dense)             (None, 1024)              525312    \n",
      "                                                                 \n",
      " leaky_re_lu_2 (LeakyReLU)   (None, 1024)              0         \n",
      "                                                                 \n",
      " batch_normalization_2 (Batc  (None, 1024)             4096      \n",
      " hNormalization)                                                 \n",
      "                                                                 \n",
      " dense_3 (Dense)             (None, 784)               803600    \n",
      "                                                                 \n",
      " reshape (Reshape)           (None, 28, 28, 1)         0         \n",
      "                                                                 \n",
      "=================================================================\n",
      "Total params: 1,493,520\n",
      "Trainable params: 1,489,936\n",
      "Non-trainable params: 3,584\n",
      "_________________________________________________________________\n"
     ]
    }
   ],
   "source": [
    "generator = build_generator()"
   ]
  },
  {
   "cell_type": "markdown",
   "id": "80c063ce",
   "metadata": {},
   "source": [
    "# 4. Mendefinisikan Discriminator\n",
    "Diskriminator dalam GAN hanyalah sebuah fungsi klasifikasi. Ia mencoba untuk membedakan data nyata dari data yang dibuat oleh generator. Diskriminator bisa menggunakan arsitektur jaringan apa pun yang sesuai dengan jenis data yang diklasifikasikan."
   ]
  },
  {
   "cell_type": "code",
   "execution_count": 6,
   "id": "eea8f25d",
   "metadata": {},
   "outputs": [
    {
     "name": "stdout",
     "output_type": "stream",
     "text": [
      "Model: \"sequential_1\"\n",
      "_________________________________________________________________\n",
      " Layer (type)                Output Shape              Param #   \n",
      "=================================================================\n",
      " flatten (Flatten)           (None, 784)               0         \n",
      "                                                                 \n",
      " dense_4 (Dense)             (None, 512)               401920    \n",
      "                                                                 \n",
      " leaky_re_lu_3 (LeakyReLU)   (None, 512)               0         \n",
      "                                                                 \n",
      " dense_5 (Dense)             (None, 256)               131328    \n",
      "                                                                 \n",
      " leaky_re_lu_4 (LeakyReLU)   (None, 256)               0         \n",
      "                                                                 \n",
      "=================================================================\n",
      "Total params: 533,248\n",
      "Trainable params: 533,248\n",
      "Non-trainable params: 0\n",
      "_________________________________________________________________\n"
     ]
    }
   ],
   "source": [
    "def build_discriminator():\n",
    "  model = Sequential()\n",
    "\n",
    "  model.add(Flatten(input_shape=img_shape))\n",
    "  model.add(Dense(512))\n",
    "  model.add(LeakyReLU(alpha=0.2))\n",
    "\n",
    "  model.add(Dense(256))\n",
    "  model.add(LeakyReLU(alpha=0.2))\n",
    "\n",
    "  model.summary()\n",
    "  return model\n",
    "\n",
    "discriminator = build_discriminator()"
   ]
  },
  {
   "cell_type": "markdown",
   "id": "fd401bb1",
   "metadata": {},
   "source": [
    "# 5. Menghubungkan Discriminator dan Generator untuk membentuk GAN\n",
    "Pada tahapan ini kita akan menghubungkan discriminator dan generator yang telah dibuat untuk membentuk sebuah GAN"
   ]
  },
  {
   "cell_type": "code",
   "execution_count": 7,
   "id": "29a7f880",
   "metadata": {},
   "outputs": [],
   "source": [
    "discriminator.compile(loss='binary_crossentropy', optimizer='adam')\n",
    "\n",
    "GAN = Sequential()\n",
    "discriminator.trainable = False\n",
    "GAN.add(generator)\n",
    "GAN.add(discriminator)\n",
    "\n",
    "GAN.compile(loss='binary_crossentropy', optimizer='adam')"
   ]
  },
  {
   "cell_type": "code",
   "execution_count": null,
   "id": "179c6c21",
   "metadata": {},
   "outputs": [],
   "source": []
  }
 ],
 "metadata": {
  "kernelspec": {
   "display_name": "Python 3 (ipykernel)",
   "language": "python",
   "name": "python3"
  },
  "language_info": {
   "codemirror_mode": {
    "name": "ipython",
    "version": 3
   },
   "file_extension": ".py",
   "mimetype": "text/x-python",
   "name": "python",
   "nbconvert_exporter": "python",
   "pygments_lexer": "ipython3",
   "version": "3.9.7"
  }
 },
 "nbformat": 4,
 "nbformat_minor": 5
}
